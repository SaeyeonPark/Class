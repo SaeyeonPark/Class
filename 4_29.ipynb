{
 "cells": [
  {
   "cell_type": "code",
   "execution_count": null,
   "metadata": {},
   "outputs": [],
   "source": [
    "ss = '----파----이----썬----'\n",
    "print(ss.strip)\n",
    "ss = '<<<<파<<이>>썬>>>>'\n",
    "print(ss.strip('<>'))"
   ]
  },
  {
   "cell_type": "code",
   "execution_count": null,
   "metadata": {},
   "outputs": [],
   "source": [
    "ss = 'Python을 열심히 공부 중'\n",
    "ss.split()\n",
    "ss = '하나:둘:셋'\n",
    "ss.split(':')\n",
    "ss = '하나\\n둘\\n셋'\n",
    "ss.splitlines()\n",
    "ss = '%'\n",
    "ss.join('파이썬')"
   ]
  },
  {
   "cell_type": "code",
   "execution_count": null,
   "metadata": {},
   "outputs": [],
   "source": [
    "before = ['2019', '12', '31']\n",
    "after = list(map int, before)\n",
    "after"
   ]
  },
  {
   "cell_type": "code",
   "execution_count": null,
   "metadata": {},
   "outputs": [],
   "source": [
    "ss = '파이썬'\n",
    "ss.center(10)\n",
    "ss.center(10, '-')\n",
    "ss.ljust(10)\n",
    "ss.rjust(10)\n",
    "ss.zfill(10)"
   ]
  },
  {
   "cell_type": "code",
   "execution_count": null,
   "metadata": {},
   "outputs": [],
   "source": [
    "'1234'.isdigit()\n",
    "'abcd'.isalpha()\n",
    "'abc123'.isalnum()\n",
    "'abcd'.islower()\n",
    "'ABCD'.isupper()\n",
    "'  '.isspace()"
   ]
  },
  {
   "cell_type": "code",
   "execution_count": null,
   "metadata": {},
   "outputs": [
    {
     "ename": "",
     "evalue": "",
     "output_type": "error",
     "traceback": [
      "\u001b[1;31mRunning cells with 'Python 3.10.4 64-bit' requires ipykernel package.\n",
      "Run the following command to install 'ipykernel' into the Python environment. \n",
      "Command: 'c:/Users/saeyo/AppData/Local/Programs/Python/Python310/python.exe -m pip install ipykernel -U --user --force-reinstall'"
     ]
    }
   ],
   "source": [
    "#함수 정의\n",
    "def plus(v1, v2) :\n",
    "    result = 0\n",
    "    result = v1 + v2\n",
    "    return result\n",
    "\n",
    "#전역변수 선언\n",
    "hap = 0\n",
    "\n",
    "#메인 코드\n",
    "hap = plus(100, 200)\n",
    "print(\"100과 200의 plus() 함수 결과는 \", hap)"
   ]
  },
  {
   "cell_type": "code",
   "execution_count": null,
   "metadata": {},
   "outputs": [],
   "source": []
  }
 ],
 "metadata": {
  "interpreter": {
   "hash": "69d261d4fc6ed52576d507483cb445aa213c360ef71db87afb0c19055c8e848a"
  },
  "kernelspec": {
   "display_name": "Python 3.10.4 64-bit",
   "language": "python",
   "name": "python3"
  },
  "language_info": {
   "name": "python",
   "version": "3.10.4"
  },
  "orig_nbformat": 4
 },
 "nbformat": 4,
 "nbformat_minor": 2
}
