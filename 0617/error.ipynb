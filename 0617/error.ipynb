{
 "cells": [
  {
   "cell_type": "code",
   "execution_count": 1,
   "metadata": {},
   "outputs": [
    {
     "ename": "KeyboardInterrupt",
     "evalue": "",
     "output_type": "error",
     "traceback": [
      "\u001b[1;31m---------------------------------------------------------------------------\u001b[0m",
      "\u001b[1;31mKeyboardInterrupt\u001b[0m                         Traceback (most recent call last)",
      "\u001b[1;32mc:\\Users\\saeyo\\OneDrive\\바탕 화면\\2\\AI\\AICLASS\\0617\\error.ipynb Cell 1'\u001b[0m in \u001b[0;36m<cell line: 4>\u001b[1;34m()\u001b[0m\n\u001b[0;32m      <a href='vscode-notebook-cell:/c%3A/Users/saeyo/OneDrive/%EB%B0%94%ED%83%95%20%ED%99%94%EB%A9%B4/2/AI/AICLASS/0617/error.ipynb#ch0000000?line=4'>5</a>\u001b[0m     num1 \u001b[39m=\u001b[39m \u001b[39mint\u001b[39m(num1)\n\u001b[0;32m      <a href='vscode-notebook-cell:/c%3A/Users/saeyo/OneDrive/%EB%B0%94%ED%83%95%20%ED%99%94%EB%A9%B4/2/AI/AICLASS/0617/error.ipynb#ch0000000?line=5'>6</a>\u001b[0m     num2 \u001b[39m=\u001b[39m \u001b[39mint\u001b[39m(num2)\n\u001b[1;32m----> <a href='vscode-notebook-cell:/c%3A/Users/saeyo/OneDrive/%EB%B0%94%ED%83%95%20%ED%99%94%EB%A9%B4/2/AI/AICLASS/0617/error.ipynb#ch0000000?line=6'>7</a>\u001b[0m     \u001b[39mwhile\u001b[39;00m \u001b[39mTrue\u001b[39;00m :\n\u001b[0;32m      <a href='vscode-notebook-cell:/c%3A/Users/saeyo/OneDrive/%EB%B0%94%ED%83%95%20%ED%99%94%EB%A9%B4/2/AI/AICLASS/0617/error.ipynb#ch0000000?line=7'>8</a>\u001b[0m         res \u001b[39m=\u001b[39m num1\u001b[39m/\u001b[39mnum2\n\u001b[0;32m     <a href='vscode-notebook-cell:/c%3A/Users/saeyo/OneDrive/%EB%B0%94%ED%83%95%20%ED%99%94%EB%A9%B4/2/AI/AICLASS/0617/error.ipynb#ch0000000?line=9'>10</a>\u001b[0m \u001b[39mexcept\u001b[39;00m \u001b[39mValueError\u001b[39;00m :\n",
      "\u001b[1;31mKeyboardInterrupt\u001b[0m: "
     ]
    }
   ],
   "source": [
    "num1 = input('숫자1 -->')\n",
    "num2 = input('숫자2 -->')\n",
    "\n",
    "try : \n",
    "    num1 = int(num1)\n",
    "    num2 = int(num2)\n",
    "    while True :\n",
    "        res = num1/num2\n",
    "\n",
    "except ValueError :\n",
    "    print(\"문자열은 숫자로 변환할 수 없습니다\")"
   ]
  },
  {
   "cell_type": "code",
   "execution_count": null,
   "metadata": {},
   "outputs": [],
   "source": [
    "class Car :\n",
    "   Color = \"\"\n",
    "   speed = 0\n",
    "\n",
    "   def upSpeed(self, value) :\n",
    "        self.speed += value\n",
    "\n",
    "\n",
    "def downSpeed(self, value) :\n",
    "   self.speed -= value\n",
    "\n",
    "myCar1 = Car()\n",
    "myCar1.color = \"빨강\"\n",
    "myCar1.speed = 0\n",
    "\n",
    "myCar2 = Car()\n",
    "myCar2.color = \"파랑\"\n",
    "myCar2.speed = 0\n",
    "\n",
    "myCar3 = Car()\n",
    "myCar3.color = \"노랑\"\n",
    "myCar3.speed = 0\n",
    "\n",
    "myCar1.upSpeed(30) \n",
    "print(\"자동차 1의 색상은 %s이며, 현재 속도는 %dkm입니다\" % (myCar1.Color, myCar1.speed))\n",
    "\n",
    "myCar2.upSpeed(60)\n",
    "print(\"자동차 2의 색상은 %s이며, 현재 속도는 %dkm입니다\" % (myCar2.Color, myCar2.speed))\n",
    "\n",
    "myCar3.upSpeed(0)\n",
    "print(\"자동차 3의 색상은 %s이며, 현재 속도는 %dkm입니다\" % (myCar3.Color, myCar3.speed))"
   ]
  },
  {
   "cell_type": "code",
   "execution_count": null,
   "metadata": {},
   "outputs": [],
   "source": [
    "class Rabit : \n",
    "    shape = \"\"\n",
    "    xPos = 0\n",
    "    yPos = 0\n",
    "\n",
    "    def go(self, x, y) :\n",
    "        self.xPos = x\n",
    "        self.yPos = y\n",
    "\n",
    "rabit = None\n",
    "userX, userY = 0, 0\n",
    "\n",
    "rabit = Rabit()\n",
    "\n",
    "rabit.shape = \"토끼\"\n",
    "\n",
    "while True :\n",
    "    userX = int(input(\"토끼가 이동할 X좌표 -->\"))\n",
    "    userY = int(input(\"토끼가 이동할 Y좌표 -->\"))\n",
    "\n",
    "    rabit.go(userX, userY)\n",
    "\n",
    "    print(\"토끼의 현재 위치는 (\", str(userX),\",\",str(userY), \")\")"
   ]
  },
  {
   "cell_type": "code",
   "execution_count": null,
   "metadata": {},
   "outputs": [],
   "source": [
    "class Car :\n",
    "    brand = \"\"\n",
    "    speed = 0\n",
    "\n",
    "    def __init__(self, name, speed) :\n",
    "        self.name = Name\n",
    "        self.speed = downSpeed\n",
    "\n",
    "    def getName(self) :\n",
    "        return self.name\n",
    "\n",
    "    def getSpeed(self) :\n",
    "        return self.speed\n",
    "\n",
    "car1, car2 = None, None\n",
    "\n",
    "car1 = Car(\"아우디\", 0)\n",
    "car2 = Car(\"벤츠\", 30)\n",
    "\n",
    "print(\"%s의 현재 속도는 %d입니다\" % (car1.getName(), car1.getSpeed()))\n",
    "print(\"%s의 현재 속도는 %d입니다\" % (car2.getName(), car2.getSpeed()))"
   ]
  }
 ],
 "metadata": {
  "kernelspec": {
   "display_name": "Python 3.10.4 64-bit",
   "language": "python",
   "name": "python3"
  },
  "language_info": {
   "codemirror_mode": {
    "name": "ipython",
    "version": 3
   },
   "file_extension": ".py",
   "mimetype": "text/x-python",
   "name": "python",
   "nbconvert_exporter": "python",
   "pygments_lexer": "ipython3",
   "version": "3.10.4"
  },
  "orig_nbformat": 4,
  "vscode": {
   "interpreter": {
    "hash": "69d261d4fc6ed52576d507483cb445aa213c360ef71db87afb0c19055c8e848a"
   }
  }
 },
 "nbformat": 4,
 "nbformat_minor": 2
}
