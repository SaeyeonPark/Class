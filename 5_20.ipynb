{
 "cells": [
  {
   "cell_type": "code",
   "execution_count": 1,
   "metadata": {},
   "outputs": [
    {
     "name": "stdout",
     "output_type": "stream",
     "text": [
      "17\n"
     ]
    }
   ],
   "source": [
    "#사용자 정의 함수\n",
    "def func1(x):\n",
    "  y = 3 * x + 5\n",
    "  return y \n",
    "\n",
    "print(func1(4))"
   ]
  },
  {
   "cell_type": "code",
   "execution_count": 3,
   "metadata": {},
   "outputs": [
    {
     "name": "stdout",
     "output_type": "stream",
     "text": [
      "사칙연산을 선택 하세요.\n",
      "1.더하기\n",
      "2.빼기\n",
      "3.곱하기\n",
      "4.나누기\n",
      "5.제곱\n",
      "2 ** 2 = 4\n"
     ]
    }
   ],
   "source": [
    "def add(x, y):\n",
    "    return x + y\n",
    "\n",
    "def subtract(x, y):\n",
    "    return x - y\n",
    "\n",
    "def multiply(x, y):\n",
    "    return x * y\n",
    "\n",
    "def divide(x, y):\n",
    "    return x / y\n",
    "\n",
    "def squared(x, y):\n",
    "    return x ** y\n",
    "\n",
    "print(\"사칙연산을 선택 하세요.\")\n",
    "print(\"1.더하기\")\n",
    "print(\"2.빼기\")\n",
    "print(\"3.곱하기\")\n",
    "print(\"4.나누기\")\n",
    "print(\"5.제곱\")\n",
    "\n",
    "choice = input(\"선택 하세요(1/2/3/4/5):\")\n",
    "\n",
    "num1 = int(input(\"첫번째 숫자 : \"))\n",
    "num2 = int(input(\"두번째 숫자 : \"))\n",
    "\n",
    "if choice == '1':\n",
    "    print(num1,\"+\",num2,\"=\", add(num1,num2))\n",
    "\n",
    "elif choice == '2':\n",
    "    print(num1,\"-\",num2,\"=\", subtract(num1,num2))\n",
    "\n",
    "elif choice == '3':\n",
    "    print(num1,\"*\",num2,\"=\", multiply(num1,num2))\n",
    "\n",
    "elif choice == '4':\n",
    "    print(num1,\"/\",num2,\"=\", divide(num1,num2))\n",
    "\n",
    "elif choice == '5':\n",
    "    print(num1,\"**\",num2,\"=\",add(num1,num2))\n",
    "    \n",
    "else:\n",
    "    print(\"잘못된 선택\")"
   ]
  },
  {
   "cell_type": "code",
   "execution_count": null,
   "metadata": {},
   "outputs": [],
   "source": [
    "#숫자 2개의 합과 3개의 합을 구하는 함수\n",
    "#함수 정의\n",
    "def para2_func(v1, v2) :\n",
    "    reslut = 0\n",
    "    reslut = v1 + v2\n",
    "    return reslut\n",
    "\n",
    "def para3_func(v1, v2, v3) :\n",
    "    reslut = 0\n",
    "    reslut = v1 + v2 + v3\n",
    "    return reslut\n",
    "\n",
    "#전역 변수 선언\n",
    "hap = 0\n",
    "\n",
    "##메인 코드\n",
    "hap = para2_func(10, 20)\n",
    "print(\"매개변수 2개 함수 호출\")\n",
    "hap = para3_func\n",
    "print(\"매개변수 3개 함수 호출\")"
   ]
  },
  {
   "cell_type": "code",
   "execution_count": 6,
   "metadata": {},
   "outputs": [
    {
     "ename": "NameError",
     "evalue": "name 'para2_func' is not defined",
     "output_type": "error",
     "traceback": [
      "\u001b[1;31m---------------------------------------------------------------------------\u001b[0m",
      "\u001b[1;31mNameError\u001b[0m                                 Traceback (most recent call last)",
      "\u001b[1;32mc:\\Users\\saeyo\\OneDrive\\바탕 화면\\AI\\AICLASS\\5_20.ipynb Cell 4'\u001b[0m in \u001b[0;36m<cell line: 11>\u001b[1;34m()\u001b[0m\n\u001b[0;32m      <a href='vscode-notebook-cell:/c%3A/Users/saeyo/OneDrive/%EB%B0%94%ED%83%95%20%ED%99%94%EB%A9%B4/AI/AICLASS/5_20.ipynb#ch0000003?line=7'>8</a>\u001b[0m hap \u001b[39m=\u001b[39m \u001b[39m0\u001b[39m\n\u001b[0;32m     <a href='vscode-notebook-cell:/c%3A/Users/saeyo/OneDrive/%EB%B0%94%ED%83%95%20%ED%99%94%EB%A9%B4/AI/AICLASS/5_20.ipynb#ch0000003?line=9'>10</a>\u001b[0m \u001b[39m#메인 코드\u001b[39;00m\n\u001b[1;32m---> <a href='vscode-notebook-cell:/c%3A/Users/saeyo/OneDrive/%EB%B0%94%ED%83%95%20%ED%99%94%EB%A9%B4/AI/AICLASS/5_20.ipynb#ch0000003?line=10'>11</a>\u001b[0m hap \u001b[39m=\u001b[39m para2_func\n\u001b[0;32m     <a href='vscode-notebook-cell:/c%3A/Users/saeyo/OneDrive/%EB%B0%94%ED%83%95%20%ED%99%94%EB%A9%B4/AI/AICLASS/5_20.ipynb#ch0000003?line=11'>12</a>\u001b[0m \u001b[39mprint\u001b[39m(\u001b[39m\"\u001b[39m\u001b[39m매개변수 2개 함수 호출\u001b[39m\u001b[39m\"\u001b[39m)\n\u001b[0;32m     <a href='vscode-notebook-cell:/c%3A/Users/saeyo/OneDrive/%EB%B0%94%ED%83%95%20%ED%99%94%EB%A9%B4/AI/AICLASS/5_20.ipynb#ch0000003?line=12'>13</a>\u001b[0m hap \u001b[39m=\u001b[39m para3_func\n",
      "\u001b[1;31mNameError\u001b[0m: name 'para2_func' is not defined"
     ]
    }
   ],
   "source": [
    "#함수 정의\n",
    "def para_func(v1, v2, v3 = 0) :\n",
    "    result = 0\n",
    "    result = v1 + v2 + v3\n",
    "    return result\n",
    "\n",
    "#전역 변수 선언\n",
    "hap = 0\n",
    "\n",
    "#메인 코드\n",
    "hap = para2_func\n",
    "print(\"매개변수 2개 함수 호출\")\n",
    "hap = para3_func\n",
    "print(\"매개변수 3개 함수 호출\")"
   ]
  },
  {
   "cell_type": "code",
   "execution_count": 5,
   "metadata": {},
   "outputs": [
    {
     "ename": "NameError",
     "evalue": "name 'para2_func' is not defined",
     "output_type": "error",
     "traceback": [
      "\u001b[1;31m---------------------------------------------------------------------------\u001b[0m",
      "\u001b[1;31mNameError\u001b[0m                                 Traceback (most recent call last)",
      "\u001b[1;32mc:\\Users\\saeyo\\OneDrive\\바탕 화면\\AI\\AICLASS\\5_20.ipynb Cell 5'\u001b[0m in \u001b[0;36m<cell line: 13>\u001b[1;34m()\u001b[0m\n\u001b[0;32m     <a href='vscode-notebook-cell:/c%3A/Users/saeyo/OneDrive/%EB%B0%94%ED%83%95%20%ED%99%94%EB%A9%B4/AI/AICLASS/5_20.ipynb#ch0000004?line=9'>10</a>\u001b[0m hap \u001b[39m=\u001b[39m \u001b[39m0\u001b[39m\n\u001b[0;32m     <a href='vscode-notebook-cell:/c%3A/Users/saeyo/OneDrive/%EB%B0%94%ED%83%95%20%ED%99%94%EB%A9%B4/AI/AICLASS/5_20.ipynb#ch0000004?line=11'>12</a>\u001b[0m \u001b[39m#메인 코드\u001b[39;00m\n\u001b[1;32m---> <a href='vscode-notebook-cell:/c%3A/Users/saeyo/OneDrive/%EB%B0%94%ED%83%95%20%ED%99%94%EB%A9%B4/AI/AICLASS/5_20.ipynb#ch0000004?line=12'>13</a>\u001b[0m hap \u001b[39m=\u001b[39m para2_func(\u001b[39m10\u001b[39m, \u001b[39m20\u001b[39m)\n\u001b[0;32m     <a href='vscode-notebook-cell:/c%3A/Users/saeyo/OneDrive/%EB%B0%94%ED%83%95%20%ED%99%94%EB%A9%B4/AI/AICLASS/5_20.ipynb#ch0000004?line=13'>14</a>\u001b[0m \u001b[39mprint\u001b[39m(\u001b[39m\"\u001b[39m\u001b[39m매개변수 2개 함수 호출\u001b[39m\u001b[39m\"\u001b[39m)\n\u001b[0;32m     <a href='vscode-notebook-cell:/c%3A/Users/saeyo/OneDrive/%EB%B0%94%ED%83%95%20%ED%99%94%EB%A9%B4/AI/AICLASS/5_20.ipynb#ch0000004?line=14'>15</a>\u001b[0m hap \u001b[39m=\u001b[39m para3_func(\u001b[39m10\u001b[39m, \u001b[39m20\u001b[39m, \u001b[39m30\u001b[39m)\n",
      "\u001b[1;31mNameError\u001b[0m: name 'para2_func' is not defined"
     ]
    }
   ],
   "source": [
    "#함수 선언\n",
    "def para_func (*para) :\n",
    "    result = 0\n",
    "    for num in para :\n",
    "        result = result + num\n",
    "\n",
    "    return result\n",
    "\n",
    "#전역 변수 선언\n",
    "hap = 0\n",
    "\n",
    "#메인 코드\n",
    "hap = para2_func(10, 20)\n",
    "print(\"매개변수 2개 함수 호출\")\n",
    "hap = para3_func(10, 20, 30)\n",
    "print(\"매개변수 3개 함수 호출\")"
   ]
  },
  {
   "cell_type": "code",
   "execution_count": 4,
   "metadata": {},
   "outputs": [
    {
     "name": "stdout",
     "output_type": "stream",
     "text": [
      "트와이스 --> 9 명 입니다.\n",
      "소녀시대 --> 7 명 입니다.\n",
      "걸스데이 --> 4 명 입니다.\n",
      "블랙핑크 --> 4 명 입니다.\n"
     ]
    }
   ],
   "source": [
    "def dic_func(**para) :\n",
    "    for k in para.keys() :\n",
    "        print(\"%s --> %d 명 입니다.\"% (k, para[k]))\n",
    "\n",
    "dic_func(트와이스 = 9, 소녀시대 = 7, 걸스데이 = 4, 블랙핑크 = 4)"
   ]
  },
  {
   "cell_type": "code",
   "execution_count": null,
   "metadata": {},
   "outputs": [],
   "source": [
    "#반환값이 한개\n",
    "#함수 정의\n",
    "def func2() :\n",
    "    result = 100\n",
    "    return result\n",
    "#전역 변수 선언\n",
    "hap = 0\n",
    "\n",
    "#메인 코드\n",
    "hap = func2"
   ]
  },
  {
   "cell_type": "code",
   "execution_count": 7,
   "metadata": {},
   "outputs": [
    {
     "name": "stdout",
     "output_type": "stream",
     "text": [
      "multi()에서 돌려준 값 ==> 300, -100\n"
     ]
    }
   ],
   "source": [
    "#반환값이 2개 있는 함수\n",
    "#함수 선언\n",
    "def multi(v1, v2) :\n",
    "    retList = []\n",
    "    res1 = v1 + v2\n",
    "    res2 = v1 - v2\n",
    "    retList.append(res1)\n",
    "    retList.append(res2)\n",
    "    return retList\n",
    "\n",
    "#전역 변수 선언\n",
    "myList = []\n",
    "hap, sub = 0, 0\n",
    "\n",
    "#메인 코드\n",
    "myList = multi(100, 200)\n",
    "hap = myList[0]\n",
    "sub = myList[1]\n",
    "print(\"multi()에서 돌려준 값 ==> %d, %d\" % (hap, sub))"
   ]
  },
  {
   "cell_type": "code",
   "execution_count": 8,
   "metadata": {},
   "outputs": [
    {
     "name": "stdout",
     "output_type": "stream",
     "text": [
      "로또 추첨\n",
      "당첨 로또 번호 : 5  22  26  33  34  35  "
     ]
    }
   ],
   "source": [
    "import random\n",
    "\n",
    "def lotto() :\n",
    "    lottonum = random.randint(1, 45)\n",
    "    return lottonum\n",
    "\n",
    "lottoList = []\n",
    "num = 0\n",
    "\n",
    "print(\"로또 추첨\")\n",
    "while True :\n",
    "    num = lotto()\n",
    "\n",
    "    if num in lottoList :\n",
    "        continue\n",
    "    else :\n",
    "        lottoList.append(num)\n",
    "\n",
    "    if len(lottoList) == 6 :\n",
    "        break\n",
    "\n",
    "print(\"당첨 로또 번호 : \", end = '')\n",
    "lottoList.sort()\n",
    "for i in range(0, 6) :\n",
    "    print(lottoList[i], \" \", end = \"\")"
   ]
  },
  {
   "cell_type": "code",
   "execution_count": 9,
   "metadata": {},
   "outputs": [
    {
     "name": "stdout",
     "output_type": "stream",
     "text": [
      "func1()에서 a의 값  10\n",
      "func2()에서 a의 값  20\n"
     ]
    }
   ],
   "source": [
    "#지역, 전역 변수의 이름이 같은 경우\n",
    "def func1() :\n",
    "    a = 10\n",
    "    print(\"func1()에서 a의 값 \", a)\n",
    "\n",
    "def func2() :\n",
    "    print(\"func2()에서 a의 값 \", a)\n",
    "\n",
    "a = 20\n",
    "\n",
    "func1()\n",
    "func2()"
   ]
  },
  {
   "cell_type": "code",
   "execution_count": 10,
   "metadata": {},
   "outputs": [
    {
     "name": "stdout",
     "output_type": "stream",
     "text": [
      "func1()에서 a의 값  10\n",
      "func2()에서의 a의 값  10\n"
     ]
    }
   ],
   "source": [
    "def func1() :\n",
    "    global a\n",
    "    a = 10\n",
    "    print(\"func1()에서 a의 값 \", a)\n",
    "\n",
    "def func2() :\n",
    "    print(\"func2()에서 a의 값 \", a)\n",
    "\n",
    "a = 20\n",
    "\n",
    "func1()\n",
    "func2()"
   ]
  },
  {
   "cell_type": "code",
   "execution_count": 11,
   "metadata": {},
   "outputs": [
    {
     "name": "stdout",
     "output_type": "stream",
     "text": [
      "현재 :  2022-05-20 11:44:39.496887\n",
      "100일 후 :  2022-08-28 11:44:39.496887\n"
     ]
    }
   ],
   "source": [
    "from datetime import datetime, timedelta\n",
    "\n",
    "def getCurrent() :\n",
    "    curDate = datetime.now()\n",
    "    return curDate\n",
    "\n",
    "def getAfterDate(now, day) :\n",
    "    retDate = now + timedelta(days = day)\n",
    "    return retDate\n",
    "\n",
    "nowDate, afterDate = None, None\n",
    "\n",
    "nowDate = getCurrent()\n",
    "print(\"현재 : \", nowDate)\n",
    "afterDate = getAfterDate(nowDate, 100)\n",
    "print(\"100일 후 : \", afterDate)"
   ]
  },
  {
   "cell_type": "code",
   "execution_count": 13,
   "metadata": {},
   "outputs": [
    {
     "name": "stdout",
     "output_type": "stream",
     "text": [
      "비밀번호 생성됨\n"
     ]
    }
   ],
   "source": [
    "def check(pwd) :\n",
    "    if len(pwd) < 8 :\n",
    "        return False\n",
    "\n",
    "    if pwd.isalnum() :\n",
    "        return True\n",
    "    else : \n",
    "        return False\n",
    "\n",
    "Password = \"\"\n",
    "\n",
    "Password = input(\"새 비밀번호 입력 : \")\n",
    "\n",
    "if check(Password) :\n",
    "    print(\"비밀번호 생성됨\")\n",
    "else :\n",
    "    print(\"오류 - 비밀번호 규칙에 맞지 않음\")"
   ]
  }
 ],
 "metadata": {
  "interpreter": {
   "hash": "69d261d4fc6ed52576d507483cb445aa213c360ef71db87afb0c19055c8e848a"
  },
  "kernelspec": {
   "display_name": "Python 3.10.4 64-bit",
   "language": "python",
   "name": "python3"
  },
  "language_info": {
   "codemirror_mode": {
    "name": "ipython",
    "version": 3
   },
   "file_extension": ".py",
   "mimetype": "text/x-python",
   "name": "python",
   "nbconvert_exporter": "python",
   "pygments_lexer": "ipython3",
   "version": "3.10.4"
  },
  "orig_nbformat": 4
 },
 "nbformat": 4,
 "nbformat_minor": 2
}
